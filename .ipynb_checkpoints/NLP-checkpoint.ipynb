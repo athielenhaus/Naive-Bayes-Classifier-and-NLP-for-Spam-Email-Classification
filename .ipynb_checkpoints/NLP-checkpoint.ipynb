{
 "cells": [
  {
   "cell_type": "code",
   "execution_count": 1,
   "id": "d017d252",
   "metadata": {},
   "outputs": [],
   "source": [
    "import pandas as pd\n",
    "import nltk\n",
    "from nltk.stem import PorterStemmer\n",
    "from nltk.corpus import stopwords\n",
    "from nltk.tokenize import word_tokenize\n",
    "from bs4 import BeautifulSoup"
   ]
  },
  {
   "cell_type": "code",
   "execution_count": 2,
   "id": "8c8d2a93",
   "metadata": {},
   "outputs": [],
   "source": [
    "# nltk.download('punkt')\n",
    "# nltk.download('stopwords')"
   ]
  },
  {
   "cell_type": "code",
   "execution_count": 3,
   "id": "18e15bbe",
   "metadata": {},
   "outputs": [
    {
     "data": {
      "text/html": [
       "<div>\n",
       "<style scoped>\n",
       "    .dataframe tbody tr th:only-of-type {\n",
       "        vertical-align: middle;\n",
       "    }\n",
       "\n",
       "    .dataframe tbody tr th {\n",
       "        vertical-align: top;\n",
       "    }\n",
       "\n",
       "    .dataframe thead th {\n",
       "        text-align: right;\n",
       "    }\n",
       "</style>\n",
       "<table border=\"1\" class=\"dataframe\">\n",
       "  <thead>\n",
       "    <tr style=\"text-align: right;\">\n",
       "      <th></th>\n",
       "      <th>Message</th>\n",
       "      <th>Category</th>\n",
       "      <th>file_name</th>\n",
       "    </tr>\n",
       "  </thead>\n",
       "  <tbody>\n",
       "    <tr>\n",
       "      <th>0</th>\n",
       "      <td>Date:        Wed, 21 Aug 2002 10:54:46 -05...</td>\n",
       "      <td>0</td>\n",
       "      <td>00001.7c53336b37003a9286aba55d2945844c</td>\n",
       "    </tr>\n",
       "    <tr>\n",
       "      <th>1</th>\n",
       "      <td>Martin A posted:\\n\\nTassos Papadopoulos, the G...</td>\n",
       "      <td>0</td>\n",
       "      <td>00002.9c4069e25e1ef370c078db7ee85ff9ac</td>\n",
       "    </tr>\n",
       "    <tr>\n",
       "      <th>2</th>\n",
       "      <td>Man Threatens Explosion In Moscow \\n\\n\\n\\nThur...</td>\n",
       "      <td>0</td>\n",
       "      <td>00003.860e3c3cee1b42ead714c5c874fe25f7</td>\n",
       "    </tr>\n",
       "    <tr>\n",
       "      <th>3</th>\n",
       "      <td>Klez: The Virus That Won't Die\\n\\n \\n\\nAlready...</td>\n",
       "      <td>0</td>\n",
       "      <td>00004.864220c5b6930b209cc287c361c99af1</td>\n",
       "    </tr>\n",
       "    <tr>\n",
       "      <th>4</th>\n",
       "      <td>&gt;  in adding cream to spaghetti carbonara, whi...</td>\n",
       "      <td>0</td>\n",
       "      <td>00005.bf27cdeaf0b8c4647ecd61b1d09da613</td>\n",
       "    </tr>\n",
       "  </tbody>\n",
       "</table>\n",
       "</div>"
      ],
      "text/plain": [
       "                                             Message  Category  \\\n",
       "0      Date:        Wed, 21 Aug 2002 10:54:46 -05...         0   \n",
       "1  Martin A posted:\\n\\nTassos Papadopoulos, the G...         0   \n",
       "2  Man Threatens Explosion In Moscow \\n\\n\\n\\nThur...         0   \n",
       "3  Klez: The Virus That Won't Die\\n\\n \\n\\nAlready...         0   \n",
       "4  >  in adding cream to spaghetti carbonara, whi...         0   \n",
       "\n",
       "                                file_name  \n",
       "0  00001.7c53336b37003a9286aba55d2945844c  \n",
       "1  00002.9c4069e25e1ef370c078db7ee85ff9ac  \n",
       "2  00003.860e3c3cee1b42ead714c5c874fe25f7  \n",
       "3  00004.864220c5b6930b209cc287c361c99af1  \n",
       "4  00005.bf27cdeaf0b8c4647ecd61b1d09da613  "
      ]
     },
     "execution_count": 3,
     "metadata": {},
     "output_type": "execute_result"
    }
   ],
   "source": [
    "data = pd.read_json('cleaned_data.json')\n",
    "data.head()"
   ]
  },
  {
   "cell_type": "code",
   "execution_count": 4,
   "id": "e2552601",
   "metadata": {
    "scrolled": false
   },
   "outputs": [],
   "source": [
    "stop_words_set = set(stopwords.words('english'))"
   ]
  },
  {
   "cell_type": "code",
   "execution_count": 5,
   "id": "6aff9ec5",
   "metadata": {},
   "outputs": [
    {
     "data": {
      "text/plain": [
       "['nobodi', 'expect', 'spanish', 'inquisit']"
      ]
     },
     "execution_count": 5,
     "metadata": {},
     "output_type": "execute_result"
    }
   ],
   "source": [
    "# function for removing stop words, non-alpha and stemming\n",
    "def stem_and_clean(word_list,\n",
    "                   stemmer = PorterStemmer(),\n",
    "                   stop_words_set = set(stopwords.words('english'))\n",
    "                  ):\n",
    "    \n",
    "    cleaned_words = []\n",
    "    for word in word_list:\n",
    "        if word not in stop_words_set and word.isalpha():\n",
    "            stemmed_word = stemmer.stem(word)\n",
    "            cleaned_words.append(stemmed_word)\n",
    "    return cleaned_words\n",
    "\n",
    "# function for removing html\n",
    "def parse_html(content):\n",
    "    soup = BeautifulSoup(content, 'html.parser')\n",
    "    return soup.get_text()\n",
    "\n",
    "message = ['nobody', 'expects', 'the', 'spanish', 'inquisition', '!', '<html>', '</body']\n",
    "\n",
    "stem_and_clean(message, stop_words_set)"
   ]
  },
  {
   "cell_type": "code",
   "execution_count": 8,
   "id": "ae2b858e",
   "metadata": {},
   "outputs": [],
   "source": [
    "# use this function to create multiple columns with different steps\n",
    "def apply_nlp(data, stop_words_set):\n",
    "\n",
    "    # first we parse the content to remove html\n",
    "    data['Parsed_Message'] = data['Message'].apply(parse_html)\n",
    "\n",
    "    # second we tokenize and lowercase\n",
    "    data['tokenized'] = data['Parsed_Message'].apply(lambda row : word_tokenize(row.lower()))\n",
    "\n",
    "    # third we remove stop words and non-alpha content and stem\n",
    "    data['tokenized_cleaned'] = data['tokenized'].apply(lambda row: stem_and_clean(row, stop_words_set))\n",
    "    \n",
    "    return data"
   ]
  },
  {
   "cell_type": "code",
   "execution_count": 13,
   "id": "b1797271",
   "metadata": {},
   "outputs": [
    {
     "name": "stderr",
     "output_type": "stream",
     "text": [
      "C:\\Users\\Arne\\AppData\\Local\\Temp\\ipykernel_8324\\4102809203.py:13: MarkupResemblesLocatorWarning: The input looks more like a filename than markup. You may want to open this file and pass the filehandle into Beautiful Soup.\n",
      "  soup = BeautifulSoup(content, 'html.parser')\n",
      "C:\\Users\\Arne\\AppData\\Local\\Temp\\ipykernel_8324\\4102809203.py:13: MarkupResemblesLocatorWarning: The input looks more like a URL than markup. You may want to use an HTTP client like requests to get the document behind the URL, and feed that document to Beautiful Soup.\n",
      "  soup = BeautifulSoup(content, 'html.parser')\n"
     ]
    }
   ],
   "source": [
    "def clean_message(message, stop_words_set):\n",
    "    \n",
    "    # remove html\n",
    "    sans_html = parse_html(message)\n",
    "    \n",
    "    # tokenize and lower\n",
    "    tokenized = word_tokenize(sans_html.lower())\n",
    "    \n",
    "    # stem, remove stop words and non-alpha\n",
    "    cleaned_list = stem_and_clean(tokenized, stop_words_set)\n",
    "    \n",
    "    return message\n",
    "\n",
    "data['cleaned_message'] = data['Message'].apply(lambda row : clean_message(row, stop_words_set))"
   ]
  },
  {
   "cell_type": "code",
   "execution_count": 14,
   "id": "18ac0c87",
   "metadata": {},
   "outputs": [
    {
     "data": {
      "text/plain": [
       "0           Date:        Wed, 21 Aug 2002 10:54:46 -05...\n",
       "1       Martin A posted:\\n\\nTassos Papadopoulos, the G...\n",
       "2       Man Threatens Explosion In Moscow \\n\\n\\n\\nThur...\n",
       "3       Klez: The Virus That Won't Die\\n\\n \\n\\nAlready...\n",
       "4       >  in adding cream to spaghetti carbonara, whi...\n",
       "                              ...                        \n",
       "5791    <html>\\n\\n<head>\\n\\n<meta http-equiv=\"content-...\n",
       "5792    This is a multi-part message in MIME format.\\n...\n",
       "5793    Dear Subscriber,\\n\\n\\n\\nIf I could show you a ...\n",
       "5794    ****Mid-Summer Customer Appreciation SALE!****...\n",
       "5795    ATTN:SIR/MADAN      \\n\\n\\n\\n                  ...\n",
       "Name: cleaned_message, Length: 5796, dtype: object"
      ]
     },
     "execution_count": 14,
     "metadata": {},
     "output_type": "execute_result"
    }
   ],
   "source": [
    "data.cleaned_message"
   ]
  },
  {
   "cell_type": "code",
   "execution_count": null,
   "id": "4e308bc3",
   "metadata": {},
   "outputs": [],
   "source": []
  },
  {
   "cell_type": "code",
   "execution_count": 10,
   "id": "b14ef404",
   "metadata": {},
   "outputs": [
    {
     "name": "stderr",
     "output_type": "stream",
     "text": [
      "C:\\Users\\Arne\\AppData\\Local\\Temp\\ipykernel_8324\\4102809203.py:13: MarkupResemblesLocatorWarning: The input looks more like a filename than markup. You may want to open this file and pass the filehandle into Beautiful Soup.\n",
      "  soup = BeautifulSoup(content, 'html.parser')\n",
      "C:\\Users\\Arne\\AppData\\Local\\Temp\\ipykernel_8324\\4102809203.py:13: MarkupResemblesLocatorWarning: The input looks more like a URL than markup. You may want to use an HTTP client like requests to get the document behind the URL, and feed that document to Beautiful Soup.\n",
      "  soup = BeautifulSoup(content, 'html.parser')\n"
     ]
    },
    {
     "data": {
      "text/html": [
       "<div>\n",
       "<style scoped>\n",
       "    .dataframe tbody tr th:only-of-type {\n",
       "        vertical-align: middle;\n",
       "    }\n",
       "\n",
       "    .dataframe tbody tr th {\n",
       "        vertical-align: top;\n",
       "    }\n",
       "\n",
       "    .dataframe thead th {\n",
       "        text-align: right;\n",
       "    }\n",
       "</style>\n",
       "<table border=\"1\" class=\"dataframe\">\n",
       "  <thead>\n",
       "    <tr style=\"text-align: right;\">\n",
       "      <th></th>\n",
       "      <th>Message</th>\n",
       "      <th>Category</th>\n",
       "      <th>file_name</th>\n",
       "      <th>Parsed_Message</th>\n",
       "      <th>tokenized</th>\n",
       "      <th>tokenized_cleaned</th>\n",
       "    </tr>\n",
       "  </thead>\n",
       "  <tbody>\n",
       "    <tr>\n",
       "      <th>0</th>\n",
       "      <td>Date:        Wed, 21 Aug 2002 10:54:46 -05...</td>\n",
       "      <td>0</td>\n",
       "      <td>00001.7c53336b37003a9286aba55d2945844c</td>\n",
       "      <td>Date:        Wed, 21 Aug 2002 10:54:46 -05...</td>\n",
       "      <td>[date, :, wed, ,, 21, aug, 2002, 10:54:46, -05...</td>\n",
       "      <td>[date, wed, aug, chri, garrigu, ca, reproduc, ...</td>\n",
       "    </tr>\n",
       "    <tr>\n",
       "      <th>1</th>\n",
       "      <td>Martin A posted:\\n\\nTassos Papadopoulos, the G...</td>\n",
       "      <td>0</td>\n",
       "      <td>00002.9c4069e25e1ef370c078db7ee85ff9ac</td>\n",
       "      <td>Martin A posted:\\n\\nTassos Papadopoulos, the G...</td>\n",
       "      <td>[martin, a, posted, :, tassos, papadopoulos, ,...</td>\n",
       "      <td>[martin, post, tasso, papadopoulo, greek, scul...</td>\n",
       "    </tr>\n",
       "    <tr>\n",
       "      <th>2</th>\n",
       "      <td>Man Threatens Explosion In Moscow \\n\\n\\n\\nThur...</td>\n",
       "      <td>0</td>\n",
       "      <td>00003.860e3c3cee1b42ead714c5c874fe25f7</td>\n",
       "      <td>Man Threatens Explosion In Moscow \\n\\n\\n\\nThur...</td>\n",
       "      <td>[man, threatens, explosion, in, moscow, thursd...</td>\n",
       "      <td>[man, threaten, explos, moscow, thursday, augu...</td>\n",
       "    </tr>\n",
       "    <tr>\n",
       "      <th>3</th>\n",
       "      <td>Klez: The Virus That Won't Die\\n\\n \\n\\nAlready...</td>\n",
       "      <td>0</td>\n",
       "      <td>00004.864220c5b6930b209cc287c361c99af1</td>\n",
       "      <td>Klez: The Virus That Won't Die\\n\\n \\n\\nAlready...</td>\n",
       "      <td>[klez, :, the, virus, that, wo, n't, die, alre...</td>\n",
       "      <td>[klez, viru, wo, die, alreadi, prolif, viru, e...</td>\n",
       "    </tr>\n",
       "    <tr>\n",
       "      <th>4</th>\n",
       "      <td>&gt;  in adding cream to spaghetti carbonara, whi...</td>\n",
       "      <td>0</td>\n",
       "      <td>00005.bf27cdeaf0b8c4647ecd61b1d09da613</td>\n",
       "      <td>&gt;  in adding cream to spaghetti carbonara, whi...</td>\n",
       "      <td>[&gt;, in, adding, cream, to, spaghetti, carbonar...</td>\n",
       "      <td>[ad, cream, spaghetti, carbonara, effect, past...</td>\n",
       "    </tr>\n",
       "  </tbody>\n",
       "</table>\n",
       "</div>"
      ],
      "text/plain": [
       "                                             Message  Category  \\\n",
       "0      Date:        Wed, 21 Aug 2002 10:54:46 -05...         0   \n",
       "1  Martin A posted:\\n\\nTassos Papadopoulos, the G...         0   \n",
       "2  Man Threatens Explosion In Moscow \\n\\n\\n\\nThur...         0   \n",
       "3  Klez: The Virus That Won't Die\\n\\n \\n\\nAlready...         0   \n",
       "4  >  in adding cream to spaghetti carbonara, whi...         0   \n",
       "\n",
       "                                file_name  \\\n",
       "0  00001.7c53336b37003a9286aba55d2945844c   \n",
       "1  00002.9c4069e25e1ef370c078db7ee85ff9ac   \n",
       "2  00003.860e3c3cee1b42ead714c5c874fe25f7   \n",
       "3  00004.864220c5b6930b209cc287c361c99af1   \n",
       "4  00005.bf27cdeaf0b8c4647ecd61b1d09da613   \n",
       "\n",
       "                                      Parsed_Message  \\\n",
       "0      Date:        Wed, 21 Aug 2002 10:54:46 -05...   \n",
       "1  Martin A posted:\\n\\nTassos Papadopoulos, the G...   \n",
       "2  Man Threatens Explosion In Moscow \\n\\n\\n\\nThur...   \n",
       "3  Klez: The Virus That Won't Die\\n\\n \\n\\nAlready...   \n",
       "4  >  in adding cream to spaghetti carbonara, whi...   \n",
       "\n",
       "                                           tokenized  \\\n",
       "0  [date, :, wed, ,, 21, aug, 2002, 10:54:46, -05...   \n",
       "1  [martin, a, posted, :, tassos, papadopoulos, ,...   \n",
       "2  [man, threatens, explosion, in, moscow, thursd...   \n",
       "3  [klez, :, the, virus, that, wo, n't, die, alre...   \n",
       "4  [>, in, adding, cream, to, spaghetti, carbonar...   \n",
       "\n",
       "                                   tokenized_cleaned  \n",
       "0  [date, wed, aug, chri, garrigu, ca, reproduc, ...  \n",
       "1  [martin, post, tasso, papadopoulo, greek, scul...  \n",
       "2  [man, threaten, explos, moscow, thursday, augu...  \n",
       "3  [klez, viru, wo, die, alreadi, prolif, viru, e...  \n",
       "4  [ad, cream, spaghetti, carbonara, effect, past...  "
      ]
     },
     "execution_count": 10,
     "metadata": {},
     "output_type": "execute_result"
    }
   ],
   "source": [
    "# data = apply_nlp(data, stop_words_set)\n",
    "# data.head()"
   ]
  },
  {
   "cell_type": "code",
   "execution_count": null,
   "id": "53a10f00",
   "metadata": {},
   "outputs": [],
   "source": []
  },
  {
   "cell_type": "code",
   "execution_count": null,
   "id": "a8e024a2",
   "metadata": {},
   "outputs": [],
   "source": []
  }
 ],
 "metadata": {
  "kernelspec": {
   "display_name": "Python 3 (ipykernel)",
   "language": "python",
   "name": "python3"
  },
  "language_info": {
   "codemirror_mode": {
    "name": "ipython",
    "version": 3
   },
   "file_extension": ".py",
   "mimetype": "text/x-python",
   "name": "python",
   "nbconvert_exporter": "python",
   "pygments_lexer": "ipython3",
   "version": "3.9.18"
  }
 },
 "nbformat": 4,
 "nbformat_minor": 5
}
